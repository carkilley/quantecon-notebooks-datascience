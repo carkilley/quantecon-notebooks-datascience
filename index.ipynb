{
 "cells": [
  {
   "cell_type": "markdown",
   "metadata": {},
   "source": [
    "# Home\n",
    "\n",
    "- [Introduction](introduction/index.ipynb)\n",
    "  - [Course Description](introduction/overview.ipynb)\n",
    "  - [Getting Started](introduction/getting_started.ipynb)\n",
    "  - [Cloud Setup](introduction/cloud_setup.ipynb)\n",
    "  - [Local Installation](introduction/local_install.ipynb)\n",
    "  - [Troubleshooting](introduction/troubleshooting.ipynb)\n",
    "- [Python Fundamentals](python_fundamentals/index.ipynb)\n",
    "  - [Basics](python_fundamentals/basics.ipynb)\n",
    "  - [Collections](python_fundamentals/collections.ipynb)\n",
    "  - [Control Flow](python_fundamentals/control_flow.ipynb)\n",
    "  - [Functions](python_fundamentals/functions.ipynb)\n",
    "- [Scientific Computing](scientific/index.ipynb)\n",
    "  - [Introduction to Numpy](scientific/numpy_arrays.ipynb)\n",
    "  - [Plotting](scientific/plotting.ipynb)\n",
    "  - [Applied Linear Algebra](scientific/applied_linalg.ipynb)\n",
    "  - [Randomness](scientific/randomness.ipynb)\n",
    "  - [Optimization](scientific/optimization.ipynb)\n",
    "- [pandas](pandas/index.ipynb)\n",
    "  - [Introduction](pandas/intro.ipynb)\n",
    "  - [Basic Functionality](pandas/basics.ipynb)\n",
    "  - [The Index](pandas/the_index.ipynb)\n",
    "  - [Storage Formats](pandas/storage_formats.ipynb)\n",
    "  - [Cleaning Data](pandas/data_clean.ipynb)\n",
    "  - [Reshape](pandas/reshape.ipynb)\n",
    "  - [Merge](pandas/merge.ipynb)\n",
    "  - [GroupBy](pandas/groupby.ipynb)\n",
    "  - [Time series](pandas/timeseries.ipynb)\n",
    "  - [Intermediate Plotting](pandas/matplotlib.ipynb)\n",
    "- [Applications](applications/index.ipynb)\n",
    "  - [Data Visualization: Rules and Guidelines](applications/visualization_rules.ipynb)\n",
    "  - [Regression](applications/regression.ipynb)\n",
    "  - [Case Study: Recidivism](applications/recidivism.ipynb)\n",
    "  - [Mapping in Python](applications/maps.ipynb)\n",
    "  - [Classification](applications/classification.ipynb)\n",
    "  - [Working with Text](applications/working_with_text.ipynb)\n",
    "  - [Machine Learning in Economics](applications/ml_in_economics.ipynb)\n",
    "  - [Heterogeneous Effects](applications/heterogeneity.ipynb)"
   ]
  }
 ],
 "metadata": {
  "date": 1595352471.3683925,
  "download_nb": false,
  "filename": "index.rst",
  "filename_with_path": "index",
  "kernelspec": {
   "display_name": "Python",
   "language": "python3",
   "name": "python3"
  },
  "language_info": {
   "codemirror_mode": {
    "name": "ipython",
    "version": 3
   },
   "file_extension": ".py",
   "mimetype": "text/x-python",
   "name": "python",
   "nbconvert_exporter": "python",
   "pygments_lexer": "ipython3",
   "version": "3.7.3"
  },
  "title": "Home"
 },
 "nbformat": 4,
 "nbformat_minor": 2
}
